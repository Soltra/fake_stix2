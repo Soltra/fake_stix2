{
 "cells": [
  {
   "cell_type": "code",
   "execution_count": 1,
   "metadata": {},
   "outputs": [],
   "source": [
    "import json\n",
    "import pytz\n",
    "\n",
    "import faker"
   ]
  },
  {
   "cell_type": "code",
   "execution_count": 11,
   "metadata": {},
   "outputs": [],
   "source": [
    "def fill_template(n):\n",
    "    bundle_uuid4 = str(fake.uuid4())\n",
    "    bundle = {\n",
    "        \"type\": \"bundle\",\n",
    "        \"id\": f\"bundle--{bundle_uuid4}\",\n",
    "        \"objects\": []\n",
    "    }\n",
    "    objects_d = make_objects(n)\n",
    "    bundle['objects'] = objects_d[\"objects\"]\n",
    "    return bundle \n",
    "    \n",
    "def make_objects(n):\n",
    "    objects_d = {\"objects\": []}\n",
    "    for i in range(n):\n",
    "        indicator_uuid4, relationship_uuid4, malware_uuid4 = [str(fake.uuid4()) for _ in range(3)]\n",
    "        created_datetime = fake.date_time_between(\n",
    "            start_date='-90d', end_date='now', tzinfo=pytz.timezone(fake.timezone()))\n",
    "        modified_datetime = fake.date_time_between(\n",
    "            start_date=created_datetime, end_date='now', tzinfo=pytz.timezone(fake.timezone()))\n",
    "        random_name = fake.password(length=12, special_chars=False, upper_case=False)\n",
    "        random_ext = fake.file_extension()\n",
    "        objects = [\n",
    "        {\n",
    "            \"type\": \"indicator\",\n",
    "            \"spec_version\": \"2.1\",\n",
    "            \"id\": f\"indicator--{indicator_uuid4}\",\n",
    "            \"created\": f\"{created_datetime}\",\n",
    "            \"modified\": f\"{modified_datetime}\",\n",
    "            \"name\": \"Malicious site hosting downloader\",\n",
    "            \"description\": \"This organized threat actor group operates to create profit from all types of crime.\",\n",
    "            \"indicator_types\": [\n",
    "                \"malicious-activity\"\n",
    "            ],\n",
    "            \"pattern\": f\"[url:value = 'http://{random_name}.{random_ext}/']\",\n",
    "            \"pattern_type\": \"stix\",\n",
    "            \"valid_from\": \"2014-06-29T13:49:37.079Z\"\n",
    "        }, { \n",
    "            \"type\": \"malware\",\n",
    "            \"spec_version\": \"2.1\",\n",
    "            \"id\": f\"malware--{malware_uuid4}\",\n",
    "            \"created\": f\"{created_datetime}\",\n",
    "            \"modified\": f\"{modified_datetime}\",\n",
    "            \"name\": f\"{random_name} backdoor\",\n",
    "            \"description\": \"This malware attempts to download remote files after establishing a foothold as a backdoor.\",\n",
    "            \"malware_types\": [\n",
    "                \"backdoor\",\n",
    "                \"remote-access-trojan\"\n",
    "            ],\n",
    "            \"is_family\": False,\n",
    "            \"kill_chain_phases\": [\n",
    "                {\n",
    "                    \"kill_chain_name\": \"mandiant-attack-lifecycle-model\",\n",
    "                    \"phase_name\": \"establish-foothold\"\n",
    "                }\n",
    "            ]\n",
    "        }, {\n",
    "            \"type\": \"relationship\",\n",
    "            \"spec_version\": \"2.1\",\n",
    "            \"id\": f\"relationship--{relationship_uuid4}\",\n",
    "            \"created\": f\"{created_datetime}\",\n",
    "            \"modified\": f\"{modified_datetime}\",\n",
    "            \"relationship_type\": \"indicates\",\n",
    "            \"source_ref\": f\"indicator--{indicator_uuid4}\",\n",
    "            \"target_ref\": f\"malware--{malware_uuid4}\"\n",
    "        }]\n",
    "        objects_d['objects'].extend(objects)\n",
    "\n",
    "    return objects_d"
   ]
  },
  {
   "cell_type": "code",
   "execution_count": 12,
   "metadata": {},
   "outputs": [],
   "source": [
    "from faker import Faker\n",
    "fake = Faker()\n",
    "Faker.seed(0)\n",
    "\n",
    "for n in range(3):\n",
    "  \n",
    "    bundle = fill_template(n)\n",
    "    with open(f'./data/{bundle_uuid4}_{n}.json', 'w') as outfile:\n",
    "        json.dump(bundle, outfile, indent=2, separators=(',', ': '))"
   ]
  },
  {
   "cell_type": "code",
   "execution_count": null,
   "metadata": {},
   "outputs": [],
   "source": []
  },
  {
   "cell_type": "code",
   "execution_count": null,
   "metadata": {},
   "outputs": [],
   "source": []
  }
 ],
 "metadata": {
  "kernelspec": {
   "display_name": "Python 3",
   "language": "python",
   "name": "python3"
  },
  "language_info": {
   "codemirror_mode": {
    "name": "ipython",
    "version": 3
   },
   "file_extension": ".py",
   "mimetype": "text/x-python",
   "name": "python",
   "nbconvert_exporter": "python",
   "pygments_lexer": "ipython3",
   "version": "3.6.10"
  }
 },
 "nbformat": 4,
 "nbformat_minor": 4
}
